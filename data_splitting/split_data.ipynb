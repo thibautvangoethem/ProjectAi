{
 "cells": [
  {
   "cell_type": "markdown",
   "source": [
    "### test/train split generator + preprocessing for the recipes dataset\n",
    "\n",
    "author: Thibaut Van Goethem"
   ],
   "metadata": {
    "collapsed": false,
    "pycharm": {
     "name": "#%% md\n"
    }
   }
  },
  {
   "cell_type": "code",
   "execution_count": 72,
   "outputs": [],
   "source": [
    "import pandas as pd\n",
    "import os\n",
    "import numpy as np\n",
    "from sklearn.model_selection import KFold"
   ],
   "metadata": {
    "collapsed": false,
    "pycharm": {
     "name": "#%%\n"
    }
   }
  },
  {
   "cell_type": "code",
   "execution_count": 73,
   "metadata": {
    "collapsed": true
   },
   "outputs": [
    {
     "name": "stdout",
     "output_type": "stream",
     "text": [
      "amount of interactions in the full dataset:  1132367\n",
      "amount of recipes in the full dataset:  231637\n",
      "amount of users in the full dataset:  226570\n"
     ]
    }
   ],
   "source": [
    "df = pd.read_csv('../data/RAW_interactions.csv')\n",
    "df.reset_index()\n",
    "df.drop_duplicates(subset=['user_id', 'recipe_id'])\n",
    "print(\"amount of interactions in the full dataset: \",len(df))\n",
    "print(\"amount of recipes in the full dataset: \",len(df.recipe_id.unique()))\n",
    "print(\"amount of users in the full dataset: \",len(df.user_id.unique()))"
   ]
  },
  {
   "cell_type": "code",
   "execution_count": 74,
   "outputs": [],
   "source": [
    "# # remove user that only vote 0\n",
    "# df_average=df.groupby('user_id', as_index=False)[\"rating\"].agg(\"mean\")\n",
    "# df_average=df_average[df_average[\"rating\"]==0.0]\n",
    "# zero_user=df_average[df_average.columns[0]].to_numpy()\n",
    "#\n",
    "# df=df[~df['user_id'].isin(zero_user)]"
   ],
   "metadata": {
    "collapsed": false,
    "pycharm": {
     "name": "#%%\n"
    }
   }
  },
  {
   "cell_type": "code",
   "execution_count": 75,
   "outputs": [],
   "source": [
    "# remove items that have a user interaction count smaller than 4 or a item interaction count smaller than 3\n",
    "now=0\n",
    "prev=len(df)\n",
    "while prev!=now:\n",
    "    prev=len(df)\n",
    "    df['count_user'] = df.groupby(['user_id'])['user_id'].transform('size')\n",
    "    df = df.drop(df[(df['count_user'] <= 2)].index)\n",
    "    df['count_item'] = df.groupby(['recipe_id'])['recipe_id'].transform('size')\n",
    "    df = df.drop(df[(df['count_item'] <= 2)].index)\n",
    "    # df.drop('count_item', axis=1, inplace=True)\n",
    "    df.reset_index(drop=True, inplace=True)\n",
    "    now=len(df)"
   ],
   "metadata": {
    "collapsed": false,
    "pycharm": {
     "name": "#%%\n"
    }
   }
  },
  {
   "cell_type": "code",
   "execution_count": 76,
   "outputs": [
    {
     "name": "stdout",
     "output_type": "stream",
     "text": [
      "amount of interactions in the full dataset:  733951\n",
      "amount of recipes in the full dataset:  80511\n",
      "amount of users in the full dataset:  32635\n"
     ]
    }
   ],
   "source": [
    "print(\"amount of interactions in the full dataset: \",len(df))\n",
    "print(\"amount of recipes in the full dataset: \",len(df.recipe_id.unique()))\n",
    "print(\"amount of users in the full dataset: \",len(df.user_id.unique()))"
   ],
   "metadata": {
    "collapsed": false,
    "pycharm": {
     "name": "#%%\n"
    }
   }
  },
  {
   "cell_type": "code",
   "execution_count": 77,
   "outputs": [],
   "source": [
    "user_list=df['user_id'].unique()\n",
    "\n",
    "k = 10\n",
    "kf = KFold(n_splits=k, shuffle=True)\n",
    "kf.get_n_splits(user_list)\n",
    "folds = list()\n",
    "idx=0\n",
    "for train_index, test_index in kf.split(user_list):\n",
    "    test_users=user_list[test_index]\n",
    "    # train_inner=df[train_index]\n",
    "    # test_inner=df[test_index]\n",
    "    # X_train = df[df['user_id'].isin(train_inner)]\n",
    "    X_test = df[df['user_id'].isin(test_users)]\n",
    "    # X_train.to_csv('test/test_set_train_fold_%s.csv'%str(idx), index=False)\n",
    "    # X_test.to_csv('test/test_set_predict_fold_%s.csv'%str(idx), index=False)\n",
    "    folds.append(X_test)\n",
    "    # idx+=1\n",
    "if not os.path.isdir(\"./folds/\"):\n",
    "   os.makedirs(\"./folds/\")\n",
    "for i in range(len(folds)):\n",
    "    os.makedirs(\"./folds/fold_%s\"%str(i))\n",
    "for i in range(len(folds)):\n",
    "    test=i\n",
    "    validate1 =(i+1)%10\n",
    "    validate2 =(i+2)%10\n",
    "\n",
    "    folds[test].to_csv('folds/fold_%s/test.csv'%str(idx), index=False)\n",
    "    validate=pd.concat([folds[validate1],folds[validate2]])\n",
    "    validate.to_csv('folds/fold_%s/validate.csv'%str(idx), index=False)\n",
    "    train_list=list()\n",
    "    for j in range(len(folds)):\n",
    "        if(j not in [test,validate1,validate2]):\n",
    "            train_list.append(folds[j])\n",
    "    train=pd.concat(train_list)\n",
    "    train.to_csv('folds/fold_%s/train.csv'%str(idx), index=False)\n",
    "    idx+=1"
   ],
   "metadata": {
    "collapsed": false,
    "pycharm": {
     "name": "#%%\n"
    }
   }
  },
  {
   "cell_type": "code",
   "execution_count": 78,
   "outputs": [],
   "source": [
    "recipes = pd.read_csv('./folds/fold_0/validate.csv')\n",
    "recipes['count_item'] = recipes.groupby(['recipe_id'])['recipe_id'].transform('size')\n",
    "recipes['count_user'] = recipes.groupby(['user_id'])['user_id'].transform('size')"
   ],
   "metadata": {
    "collapsed": false,
    "pycharm": {
     "name": "#%%\n"
    }
   }
  }
 ],
 "metadata": {
  "kernelspec": {
   "display_name": "Python 3",
   "language": "python",
   "name": "python3"
  },
  "language_info": {
   "codemirror_mode": {
    "name": "ipython",
    "version": 2
   },
   "file_extension": ".py",
   "mimetype": "text/x-python",
   "name": "python",
   "nbconvert_exporter": "python",
   "pygments_lexer": "ipython2",
   "version": "2.7.6"
  }
 },
 "nbformat": 4,
 "nbformat_minor": 0
}