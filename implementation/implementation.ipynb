{
 "cells": [
  {
   "cell_type": "markdown",
   "source": [
    "first of we start with preprocessing the raw data"
   ],
   "metadata": {
    "collapsed": false,
    "pycharm": {
     "name": "#%% md\n"
    }
   }
  },
  {
   "cell_type": "code",
   "execution_count": 1,
   "metadata": {
    "collapsed": true
   },
   "outputs": [],
   "source": [
    "import pandas as pd"
   ]
  },
  {
   "cell_type": "code",
   "execution_count": 2,
   "outputs": [
    {
     "data": {
      "text/plain": "            user_id  recipe_id  rating\n0             38094      40893       4\n1           1293707      40893       5\n2              8937      44394       4\n3            126440      85009       5\n4             57222      85009       5\n...             ...        ...     ...\n1132362      116593      72730       0\n1132363      583662     386618       5\n1132364      157126      78003       5\n1132365       53932      78003       4\n1132366  2001868099      78003       5\n\n[1132367 rows x 3 columns]",
      "text/html": "<div>\n<style scoped>\n    .dataframe tbody tr th:only-of-type {\n        vertical-align: middle;\n    }\n\n    .dataframe tbody tr th {\n        vertical-align: top;\n    }\n\n    .dataframe thead th {\n        text-align: right;\n    }\n</style>\n<table border=\"1\" class=\"dataframe\">\n  <thead>\n    <tr style=\"text-align: right;\">\n      <th></th>\n      <th>user_id</th>\n      <th>recipe_id</th>\n      <th>rating</th>\n    </tr>\n  </thead>\n  <tbody>\n    <tr>\n      <th>0</th>\n      <td>38094</td>\n      <td>40893</td>\n      <td>4</td>\n    </tr>\n    <tr>\n      <th>1</th>\n      <td>1293707</td>\n      <td>40893</td>\n      <td>5</td>\n    </tr>\n    <tr>\n      <th>2</th>\n      <td>8937</td>\n      <td>44394</td>\n      <td>4</td>\n    </tr>\n    <tr>\n      <th>3</th>\n      <td>126440</td>\n      <td>85009</td>\n      <td>5</td>\n    </tr>\n    <tr>\n      <th>4</th>\n      <td>57222</td>\n      <td>85009</td>\n      <td>5</td>\n    </tr>\n    <tr>\n      <th>...</th>\n      <td>...</td>\n      <td>...</td>\n      <td>...</td>\n    </tr>\n    <tr>\n      <th>1132362</th>\n      <td>116593</td>\n      <td>72730</td>\n      <td>0</td>\n    </tr>\n    <tr>\n      <th>1132363</th>\n      <td>583662</td>\n      <td>386618</td>\n      <td>5</td>\n    </tr>\n    <tr>\n      <th>1132364</th>\n      <td>157126</td>\n      <td>78003</td>\n      <td>5</td>\n    </tr>\n    <tr>\n      <th>1132365</th>\n      <td>53932</td>\n      <td>78003</td>\n      <td>4</td>\n    </tr>\n    <tr>\n      <th>1132366</th>\n      <td>2001868099</td>\n      <td>78003</td>\n      <td>5</td>\n    </tr>\n  </tbody>\n</table>\n<p>1132367 rows × 3 columns</p>\n</div>"
     },
     "execution_count": 2,
     "metadata": {},
     "output_type": "execute_result"
    }
   ],
   "source": [
    "df=pd.read_csv('../data/RAW_interactions.csv')\n",
    "df.drop('review', axis=1, inplace=True)\n",
    "df.drop('date', axis=1, inplace=True)\n",
    "df.reset_index()\n",
    "df.drop_duplicates(subset=['user_id', 'recipe_id'])"
   ],
   "metadata": {
    "collapsed": false,
    "pycharm": {
     "name": "#%%\n"
    }
   }
  },
  {
   "cell_type": "markdown",
   "source": [
    "The recipes and users don't go from 0 to amount so if we were to put this in a matrix we would get empty columns and rows. This is not that handy so we reindex both the user_id and recipe_ids\n",
    "\n",
    "This is a step we must not forget when entering the data int he model, as we also need to remap our input data using the same remapping that was used here"
   ],
   "metadata": {
    "collapsed": false,
    "pycharm": {
     "name": "#%% md\n"
    }
   }
  },
  {
   "cell_type": "code",
   "execution_count": 3,
   "outputs": [],
   "source": [
    "userSet=set(df['user_id'].to_list())\n",
    "user_transform_dict=dict(map(reversed, enumerate(userSet)))\n",
    "recipeSet=set(df['recipe_id'].to_list())\n",
    "recipe_transform_dict=dict(map(reversed, enumerate(recipeSet)))"
   ],
   "metadata": {
    "collapsed": false,
    "pycharm": {
     "name": "#%%\n"
    }
   }
  },
  {
   "cell_type": "code",
   "execution_count": 4,
   "outputs": [],
   "source": [
    "keep_nan = [k for k,v in user_transform_dict.items() if pd.isnull(v)]\n",
    "tochange=df['user_id']\n",
    "df['user_id'] = tochange.map(user_transform_dict).fillna(tochange.mask(tochange.isin(keep_nan)))\n",
    "\n",
    "keep_nan = [k for k,v in recipe_transform_dict.items() if pd.isnull(v)]\n",
    "tochange=df['recipe_id']\n",
    "df['recipe_id'] = tochange.map(recipe_transform_dict).fillna(tochange.mask(tochange.isin(keep_nan)))"
   ],
   "metadata": {
    "collapsed": false,
    "pycharm": {
     "name": "#%%\n"
    }
   }
  },
  {
   "cell_type": "markdown",
   "source": [
    "Creation of the folds for k-fold validation"
   ],
   "metadata": {
    "collapsed": false,
    "pycharm": {
     "name": "#%% md\n"
    }
   }
  },
  {
   "cell_type": "code",
   "execution_count": 11,
   "outputs": [],
   "source": [
    "unique_users=df.user_id.unique()\n",
    "\n",
    "unique_users.sort(axis=0)"
   ],
   "metadata": {
    "collapsed": false,
    "pycharm": {
     "name": "#%%\n"
    }
   }
  },
  {
   "cell_type": "code",
   "execution_count": 12,
   "outputs": [],
   "source": [
    "from sklearn.model_selection import train_test_split,KFold\n",
    "k=10\n",
    "kf = KFold(n_splits=k)\n",
    "kf.get_n_splits(df)\n",
    "folds=list()\n",
    "for train_index, test_index in kf.split(unique_users):\n",
    "    X_train=df.query('user_id in @train_index')\n",
    "    X_test=df.query('user_id in @test_index')\n",
    "    folds.append((X_train,X_test))"
   ],
   "metadata": {
    "collapsed": false,
    "pycharm": {
     "name": "#%%\n"
    }
   }
  },
  {
   "cell_type": "markdown",
   "source": [
    "Here starts the actual programming of the model"
   ],
   "metadata": {
    "collapsed": false
   }
  },
  {
   "cell_type": "code",
   "execution_count": null,
   "outputs": [],
   "source": [
    "class easer:\n",
    "    def train(self,G):\n",
    "        #TODO add the trainign code given the item-item matrix\n",
    "        pass\n",
    "    def predicts(self,xu):\n",
    "        #TODO give back the predicted vector given a user interaction vector\n",
    "        pass"
   ],
   "metadata": {
    "collapsed": false,
    "pycharm": {
     "name": "#%%\n"
    }
   }
  },
  {
   "cell_type": "code",
   "execution_count": null,
   "outputs": [],
   "source": [
    "from scipy import sparse\n",
    "for fold in folds:\n",
    "    train_data=fold[0]\n",
    "    ratings=train_data.rating\n",
    "    idx=(train_data.user_id,train_data.recipe_id)\n",
    "    #Here we have the user item matrix\n",
    "    X_train=sparse.csc_matrix((ratings,idx),shape=(len(df.user_id.unique()),len(df.recipe_id.unique())))\n",
    "    X_train_t=X_train.copy().transpose()\n",
    "    G_train=X_train_t*X_train\n",
    "    #TODO train model\n",
    "\n",
    "\n"
   ],
   "metadata": {
    "collapsed": false,
    "pycharm": {
     "name": "#%%\n",
     "is_executing": true
    }
   }
  }
 ],
 "metadata": {
  "kernelspec": {
   "display_name": "Python 3",
   "language": "python",
   "name": "python3"
  },
  "language_info": {
   "codemirror_mode": {
    "name": "ipython",
    "version": 2
   },
   "file_extension": ".py",
   "mimetype": "text/x-python",
   "name": "python",
   "nbconvert_exporter": "python",
   "pygments_lexer": "ipython2",
   "version": "2.7.6"
  }
 },
 "nbformat": 4,
 "nbformat_minor": 0
}