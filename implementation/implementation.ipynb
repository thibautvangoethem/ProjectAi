{
 "cells": [
  {
   "cell_type": "markdown",
   "source": [
    "# project ai: Easer\n",
    "\n",
    "by Michiel Téblick and thibaut Van Goethem\n",
    "\n",
    "In this notebook we will look at the easer model proposed at https://dl.acm.org/doi/pdf/10.1145/3308558.3313710.\n",
    "\n",
    "This model will be applied to a dataset from foods.com which containes a bunch of recipes with user ratings/reactions on them.\n",
    "\n",
    "\n"
   ],
   "metadata": {
    "collapsed": false
   }
  },
  {
   "cell_type": "code",
   "execution_count": 105,
   "metadata": {
    "collapsed": true
   },
   "outputs": [],
   "source": [
    "import pandas as pd\n",
    "import numpy as np\n",
    "import scipy\n",
    "from sklearn.model_selection import KFold\n",
    "import time\n",
    "import pickle\n",
    "from scipy import sparse\n",
    "import statistics as st"
   ]
  },
  {
   "cell_type": "markdown",
   "source": [
    "## Reading and preprocessing the data"
   ],
   "metadata": {
    "collapsed": false
   }
  },
  {
   "cell_type": "code",
   "execution_count": 92,
   "outputs": [
    {
     "name": "stdout",
     "output_type": "stream",
     "text": [
      "amount of interactions in the full dataset:  1132367\n",
      "amount of recipes in the full dataset:  231637\n"
     ]
    }
   ],
   "source": [
    "df = pd.read_csv('../data/RAW_interactions.csv')\n",
    "df.drop('review', axis=1, inplace=True)\n",
    "df.drop('date', axis=1, inplace=True)\n",
    "df.reset_index()\n",
    "df.drop_duplicates(subset=['user_id', 'recipe_id'])\n",
    "print(\"amount of interactions in the full dataset: \",len(df))\n",
    "print(\"amount of recipes in the full dataset: \",len(df.recipe_id.unique()))"
   ],
   "metadata": {
    "collapsed": false,
    "pycharm": {
     "name": "#%%\n"
    }
   }
  },
  {
   "cell_type": "markdown",
   "source": [
    "Set all ratings to 1 (even negative interactions are seen as interactions)"
   ],
   "metadata": {
    "collapsed": false,
    "pycharm": {
     "name": "#%% md\n"
    }
   }
  },
  {
   "cell_type": "code",
   "execution_count": 93,
   "outputs": [],
   "source": [
    "df.loc[:,'rating'] = 1"
   ],
   "metadata": {
    "collapsed": false,
    "pycharm": {
     "name": "#%%\n"
    }
   }
  },
  {
   "cell_type": "markdown",
   "source": [
    "Below here are two ways to cut down on the amount of interactions that are used in this notebook\n",
    "- The first one randomly removes x% of the users,\n",
    "- The second one removes all user and recipes that have less than X amount of interaction containing them\n",
    "\n",
    "We opted for the second form as this is more representative of how the models should be used due to the lower amount if recipes but more reactions per recipe. Also the second choice is a deterministic way of removing data, which the first one is not.\n",
    "This does end up mostly giving slightly worse result compared to the first choice.\n",
    "\n",
    "The reason we need to remove data is because a matrix inversion is done, which can not be done in a smart way.\n",
    "Also the result of the inversion is not necessarily a sparse matrix so the full calculation needs to be done on dense matrices. This end up scaling O(n^3) in time complexity and O(n^2) for memory needed. n here is the amount of recipes.\n",
    "So running on the full dataset would require more than 200gb of ram which we do not have."
   ],
   "metadata": {
    "collapsed": false
   }
  },
  {
   "cell_type": "code",
   "execution_count": 94,
   "outputs": [],
   "source": [
    "# # randomly drop a subset of data as we dont have enough resource to run the entire dataset\n",
    "# unique_recipes = df.recipe_id.unique()\n",
    "# subset = np.random.choice(unique_recipes, size=int(len(unique_recipes) / 10), replace=False, p=None)\n",
    "# # Keep only the recipes that were in the randomly sampled df\n",
    "# df = df[df['recipe_id'].isin(subset)]\n",
    "# df.reset_index()\n",
    "#\n",
    "# # Preprocessing step where we remove all recipes that only have a single review from a person that only has a single review\n",
    "# # This is done as these items will never be connected to other items and thus will never be recommended\n",
    "#\n",
    "# df['count_user'] = df.groupby(['recipe_id'])['recipe_id'].transform('size')\n",
    "# df['count_item'] = df.groupby(['user_id'])['user_id'].transform('size')\n",
    "# # 1121916 interaction in df after the and drop\n",
    "# # df = df.drop(df[(df['counts'] == 1) & (df['counts_user'] == 1)].index)\n",
    "#\n",
    "# # 884607 interactions after the or drop\n",
    "# df = df.drop(df[(df['count_item'] == 1) | (df['count_user'] == 1)].index)\n",
    "# df.reset_index(drop=True, inplace=True)"
   ],
   "metadata": {
    "collapsed": false,
    "pycharm": {
     "name": "#%%\n"
    }
   }
  },
  {
   "cell_type": "code",
   "execution_count": 95,
   "outputs": [],
   "source": [
    "df = df.drop_duplicates()\n",
    "g1 = df.groupby('recipe_id', as_index=False)['user_id'].size()\n",
    "g1 = g1.rename({'size': 'count_item'}, axis='columns')\n",
    "g2 = df.groupby('user_id', as_index=False)['recipe_id'].size()\n",
    "g2 = g2.rename({'size': 'count_user'}, axis='columns')\n",
    "df = pd.merge(df, g1, how='left', on=['recipe_id'])\n",
    "df = pd.merge(df, g2, how='left', on=['user_id'])\n",
    "df = df[df['count_item'] >= 15]\n",
    "df = df[df['count_user'] >= 15]"
   ],
   "metadata": {
    "collapsed": false,
    "pycharm": {
     "name": "#%%\n"
    }
   }
  },
  {
   "cell_type": "markdown",
   "source": [
    "### rescaling the id's\n",
    "The recipes and users don't go from 0 to amount so if we were to put this in a matrix we would get empty columns and rows. This is not that handy so we reindex both the user_id and recipe_ids\n",
    "\n",
    "This is a step we must not forget when entering the data in the model, as we also need to remap our input data using the same remapping that was used here"
   ],
   "metadata": {
    "collapsed": false,
    "pycharm": {
     "name": "#%% md\n"
    }
   }
  },
  {
   "cell_type": "code",
   "execution_count": 96,
   "outputs": [],
   "source": [
    "userSet = set(df['user_id'].to_list())\n",
    "user_transform_dict = dict(map(reversed, enumerate(userSet)))\n",
    "recipeSet = set(df['recipe_id'].to_list())\n",
    "recipe_transform_dict = dict(map(reversed, enumerate(recipeSet)))"
   ],
   "metadata": {
    "collapsed": false,
    "pycharm": {
     "name": "#%%\n"
    }
   }
  },
  {
   "cell_type": "code",
   "execution_count": 97,
   "outputs": [],
   "source": [
    "keep_nan = [k for k, v in user_transform_dict.items() if pd.isnull(v)]\n",
    "tochange = df['user_id']\n",
    "df['user_id'] = tochange.map(user_transform_dict).fillna(tochange.mask(tochange.isin(keep_nan)))\n",
    "\n",
    "keep_nan = [k for k, v in recipe_transform_dict.items() if pd.isnull(v)]\n",
    "tochange = df['recipe_id']\n",
    "df['recipe_id'] = tochange.map(recipe_transform_dict).fillna(tochange.mask(tochange.isin(keep_nan)))\n"
   ],
   "metadata": {
    "collapsed": false,
    "pycharm": {
     "name": "#%%\n"
    }
   }
  },
  {
   "cell_type": "markdown",
   "source": [
    "### Creation of the folds\n"
   ],
   "metadata": {
    "collapsed": false,
    "pycharm": {
     "name": "#%% md\n"
    }
   }
  },
  {
   "cell_type": "code",
   "execution_count": 98,
   "outputs": [],
   "source": [
    "k = 10\n",
    "kf = KFold(n_splits=k, shuffle=True)\n",
    "kf.get_n_splits(df)\n",
    "folds = list()\n",
    "for train_index, test_index in kf.split(df):\n",
    "    X_train = df.iloc[train_index]\n",
    "    X_test = df.iloc[test_index]\n",
    "    folds.append((X_train, X_test))"
   ],
   "metadata": {
    "collapsed": false,
    "pycharm": {
     "name": "#%%\n"
    }
   }
  },
  {
   "cell_type": "markdown",
   "source": [
    "## Creation model\n",
    "Here we define the models used for the experiments. Both the easer predictor and a populaliry predictor are created. the popularity predictor is used as a baseline"
   ],
   "metadata": {
    "collapsed": false
   }
  },
  {
   "cell_type": "code",
   "execution_count": 99,
   "outputs": [],
   "source": [
    "class popularity:\n",
    "    def __init__(self):\n",
    "        pass\n",
    "    def train(self,data):\n",
    "        data=data.sort_values('count_user',ascending=False)\n",
    "        self.pop=data[data.columns[1]].to_numpy()\n",
    "    def predict(self):\n",
    "        return self.pop"
   ],
   "metadata": {
    "collapsed": false,
    "pycharm": {
     "name": "#%%\n"
    }
   }
  },
  {
   "cell_type": "code",
   "execution_count": 100,
   "outputs": [],
   "source": [
    "class Easer:\n",
    "    def __init__(self):\n",
    "        pass\n",
    "\n",
    "    def train(self, X_train, lambda_=0.5):\n",
    "        #Code here is a modified version of the code provided in the paper\n",
    "        self.X = X_train\n",
    "\n",
    "        G = X_train.T.dot(X_train)  # sparse\n",
    "        G = G.toarray()\n",
    "        diagIndices = np.diag_indices(G.shape[0])\n",
    "        G[diagIndices] += lambda_\n",
    "        P = scipy.linalg.inv(G)\n",
    "        div = -np.diag(P)\n",
    "        self.B = P / div\n",
    "        self.B[diagIndices] = 0\n",
    "\n",
    "        self.pred = self.X * self.B\n",
    "\n",
    "    def predicts(self, xu):\n",
    "        return xu * self.B"
   ],
   "metadata": {
    "collapsed": false,
    "pycharm": {
     "name": "#%%\n"
    }
   }
  },
  {
   "cell_type": "markdown",
   "source": [
    "## training models + k-fold validation\n"
   ],
   "metadata": {
    "collapsed": false,
    "pycharm": {
     "name": "#%% md\n"
    }
   }
  },
  {
   "cell_type": "code",
   "execution_count": 101,
   "outputs": [
    {
     "name": "stdout",
     "output_type": "stream",
     "text": [
      "8653\n",
      "12078\n",
      "done fold: 0\n",
      "training took :  31.7008957862854 s\n",
      "8653\n",
      "12078\n",
      "done fold: 1\n",
      "training took :  30.615259170532227 s\n",
      "8653\n",
      "12078\n",
      "done fold: 2\n",
      "training took :  30.170352458953857 s\n",
      "8653\n",
      "12078\n",
      "done fold: 3\n",
      "training took :  31.428001642227173 s\n",
      "8653\n",
      "12078\n",
      "done fold: 4\n",
      "training took :  30.85005211830139 s\n",
      "8653\n",
      "12078\n",
      "done fold: 5\n",
      "training took :  30.393954515457153 s\n",
      "8653\n",
      "12078\n",
      "done fold: 6\n",
      "training took :  31.337446212768555 s\n",
      "8653\n",
      "12078\n",
      "done fold: 7\n",
      "training took :  30.910082817077637 s\n",
      "8653\n",
      "12078\n",
      "done fold: 8\n",
      "training took :  30.360827684402466 s\n",
      "8653\n",
      "12078\n",
      "done fold: 9\n",
      "training took :  31.39309811592102 s\n"
     ]
    }
   ],
   "source": [
    "#Please enter the path here of where you will place the pickle files (with trailing /)\n",
    "data_path=\"D:\\\\results_aiproject\\\\\"\n",
    "for f_idx, fold_data in enumerate(folds):\n",
    "    start = time.time()\n",
    "    train_data = fold_data[0]\n",
    "    ratings = train_data.rating\n",
    "    idx = (train_data.user_id, train_data.recipe_id)\n",
    "    #Here we have the user item matrix\n",
    "    X_train = sparse.csc_matrix((ratings, idx), shape=(len(df.user_id.unique()), len(df.recipe_id.unique())),\n",
    "                                dtype=float)\n",
    "    #train models\n",
    "    model_pop=popularity()\n",
    "    model_pop.train(train_data)\n",
    "    model = Easer()\n",
    "    model.train(X_train)\n",
    "    print(\"done fold:\",str(f_idx))\n",
    "\n",
    "    end = time.time()\n",
    "    print(\"training took : \", end - start, \"s\")\n",
    "\n",
    "    #Dump data for later usage (note that the easer model files end up being pretty large (approx 5gb each))\n",
    "    datafile = open(data_path+\"data_fold\" + str(f_idx) + \".pkl\", mode='wb')\n",
    "    pickle.dump(fold_data, datafile)\n",
    "    modelfile = open(data_path+\"model_fold\" + str(f_idx) + \".pkl\", mode='wb')\n",
    "    modelpopfile = open(data_path+\"model_pop_fold\" + str(f_idx) + \".pkl\", mode='wb')\n",
    "    pickle.dump(model, modelfile)\n",
    "    pickle.dump(model_pop, modelpopfile)\n",
    "    datafile.close()\n",
    "    modelfile.close()\n",
    "    modelpopfile.close()"
   ],
   "metadata": {
    "collapsed": false,
    "pycharm": {
     "name": "#%%\n"
    }
   }
  },
  {
   "cell_type": "markdown",
   "source": [
    "## Evaluation results of the folds\n",
    "\n",
    "Here we use recall@20"
   ],
   "metadata": {
    "collapsed": false,
    "pycharm": {
     "name": "#%% md\n"
    }
   }
  },
  {
   "cell_type": "code",
   "execution_count": null,
   "outputs": [],
   "source": [
    "K = 20"
   ],
   "metadata": {
    "collapsed": false,
    "pycharm": {
     "name": "#%%\n"
    }
   }
  },
  {
   "cell_type": "code",
   "execution_count": 106,
   "outputs": [
    {
     "name": "stdout",
     "output_type": "stream",
     "text": [
      "[[ 0.00159878  0.00304444  0.00029673 ... -0.00391544 -0.00409826\n",
      "  -0.0155874 ]\n",
      " [-0.00018305 -0.00041879 -0.00227176 ... -0.001979   -0.00206915\n",
      "  -0.00190249]\n",
      " [-0.00230521 -0.001165    0.00070936 ... -0.00185954 -0.00133918\n",
      "   0.01157269]\n",
      " ...\n",
      " [-0.00055766 -0.01121321  0.00628293 ... -0.00140608 -0.00026007\n",
      "  -0.00582701]\n",
      " [ 0.00098206  0.00141904 -0.01065987 ... -0.00457449  0.00492925\n",
      "   0.01315035]\n",
      " [-0.00064329 -0.00018688  0.0013005  ... -0.00207607 -0.0026008\n",
      "  -0.01249914]]\n",
      "easer fold: 0, recall@20 = 0.023421725669672905\n",
      "[[ 4.90398719e-04  6.67254702e-03  7.33437609e-03 ...  1.15406614e-02\n",
      "  -3.62127084e-03 -1.03321019e-02]\n",
      " [-1.06408645e-04  2.52630084e-04 -9.32316518e-04 ... -1.70483045e-03\n",
      "  -3.33298594e-03 -1.92199790e-03]\n",
      " [ 1.24529121e-03  1.69831956e-03  7.36867833e-03 ... -5.85334652e-03\n",
      "  -1.09406706e-02  6.85367646e-04]\n",
      " ...\n",
      " [-3.52923530e-04 -2.63507788e-03 -3.89912996e-08 ... -1.96568177e-03\n",
      "   8.12220148e-04  7.84613424e-03]\n",
      " [ 2.99510945e-03  1.73585972e-03  1.89060418e-03 ... -1.10339203e-02\n",
      "  -2.55465800e-03  9.28337764e-03]\n",
      " [ 9.10116443e-04 -1.86533141e-03  2.30667899e-03 ...  5.38921121e-03\n",
      "  -3.02625745e-03  1.87576349e-03]]\n",
      "easer fold: 1, recall@20 = 0.023892852335442187\n",
      "[[ 1.72166500e-03  3.51177792e-03 -7.37773368e-03 ...  3.32270498e-04\n",
      "  -2.91106089e-03  2.62007556e-03]\n",
      " [-5.98462274e-04 -2.37874867e-04 -2.21297061e-03 ... -6.00604504e-03\n",
      "  -2.08944954e-05  2.81109466e-03]\n",
      " [-8.31894556e-05 -2.04797132e-03 -2.86509136e-03 ... -3.22589453e-03\n",
      "  -1.66996912e-03  5.38023170e-04]\n",
      " ...\n",
      " [ 1.05605474e-03 -4.29749936e-03  3.55076870e-03 ... -4.73631297e-03\n",
      "  -9.38578977e-04 -2.05926445e-02]\n",
      " [-3.49494589e-04 -7.74141156e-04 -1.38193143e-02 ... -8.45646377e-03\n",
      "  -9.50587623e-04  3.32339981e-04]\n",
      " [-5.52160761e-04  1.75735466e-03  1.18037911e-03 ... -9.52678319e-03\n",
      "  -7.98076481e-04 -6.84990619e-03]]\n",
      "easer fold: 2, recall@20 = 0.024464934715304885\n",
      "[[ 9.38622748e-04  5.00625130e-04  3.57016834e-03 ...  1.71816275e-03\n",
      "  -9.71351401e-04 -1.00961838e-02]\n",
      " [-1.03210397e-03  7.33064084e-04 -1.34621315e-03 ... -3.18638811e-03\n",
      "  -1.00777645e-03  3.12601592e-03]\n",
      " [ 1.98157885e-04  1.02529414e-03  1.33630315e-03 ... -4.08443517e-03\n",
      "  -7.92826207e-03 -7.17897033e-03]\n",
      " ...\n",
      " [-7.37882796e-04 -3.34582766e-05  3.66165962e-03 ...  2.60973285e-03\n",
      "   3.77466626e-03 -3.51667828e-03]\n",
      " [ 4.92893297e-05  1.04462024e-03 -1.15675772e-04 ... -6.95963147e-03\n",
      "  -5.03106763e-03  6.51839727e-03]\n",
      " [ 4.59457716e-05 -3.67455257e-04 -2.01644132e-03 ... -6.50310394e-03\n",
      "   6.08311032e-06  1.72721080e-03]]\n",
      "easer fold: 3, recall@20 = 0.025037017095167587\n",
      "[[-3.75743153e-04  6.79661044e-04  4.58300617e-03 ...  1.34571656e-02\n",
      "   2.52803099e-03 -1.69412700e-02]\n",
      " [-3.95367728e-04  2.71895323e-04  2.88781660e-04 ... -2.16625865e-03\n",
      "   7.89018949e-04  1.91446456e-03]\n",
      " [ 1.83066388e-04 -4.27186366e-03 -7.40022221e-03 ... -4.79270134e-03\n",
      "  -4.85681731e-03  4.22580683e-05]\n",
      " ...\n",
      " [-2.65061849e-04 -8.87607387e-03  2.90035138e-03 ...  1.99873518e-03\n",
      "   1.46212018e-03 -2.74408922e-03]\n",
      " [ 2.25776098e-04  3.62813222e-03  1.13464806e-02 ... -2.01219762e-02\n",
      "  -1.18905502e-03  4.71885605e-03]\n",
      " [ 1.16319384e-04 -2.52735179e-03 -4.99247765e-03 ... -7.45230618e-03\n",
      "  -3.92228412e-03 -1.20469242e-02]]\n",
      "easer fold: 4, recall@20 = 0.02335442186027729\n",
      "[[ 0.00124037  0.00424164  0.01457636 ... -0.00361443 -0.00231721\n",
      "  -0.01185374]\n",
      " [ 0.00033033 -0.00045625  0.00161979 ... -0.00032516 -0.00128309\n",
      "  -0.00248393]\n",
      " [ 0.00017432 -0.00429543 -0.00579201 ... -0.00133975 -0.00198684\n",
      "   0.00242252]\n",
      " ...\n",
      " [-0.00089497 -0.01688499  0.00916155 ... -0.01498793  0.0005668\n",
      "   0.00247383]\n",
      " [ 0.00214248  0.00024867 -0.00483833 ... -0.00304004 -0.00037609\n",
      "   0.0081886 ]\n",
      " [ 0.00025667 -0.00217622 -0.00422951 ... -0.00653906 -0.00254167\n",
      "  -0.00431929]]\n",
      "easer fold: 5, recall@20 = 0.025037017095167587\n",
      "[[ 0.00047747  0.00705134  0.0153001  ...  0.00179359 -0.00851495\n",
      "  -0.00867814]\n",
      " [-0.00068608  0.00054396  0.00170296 ... -0.00182336 -0.00191144\n",
      "   0.00159189]\n",
      " [-0.00270184 -0.00612734  0.00434173 ... -0.00642518 -0.006374\n",
      "   0.00798616]\n",
      " ...\n",
      " [ 0.0008649  -0.01134942  0.00607375 ... -0.0018411   0.00219823\n",
      "  -0.00247315]\n",
      " [ 0.00272508  0.00268535  0.00309865 ... -0.00696402 -0.00114945\n",
      "  -0.0047965 ]\n",
      " [-0.00152545 -0.00151439 -0.00042161 ... -0.00758415 -0.00224487\n",
      "   0.00178681]]\n",
      "easer fold: 6, recall@20 = 0.023892852335442187\n",
      "[[-0.00024988 -0.00120643 -0.00094944 ...  0.00862519  0.00249341\n",
      "  -0.01165245]\n",
      " [ 0.00023629  0.00034856 -0.00261303 ... -0.00156151  0.00037882\n",
      "  -0.00232553]\n",
      " [-0.00234171 -0.00176587 -0.00201473 ... -0.01202269 -0.00731207\n",
      "   0.00681493]\n",
      " ...\n",
      " [-0.00046031 -0.00486532  0.00971859 ...  0.00665117 -0.00226577\n",
      "  -0.00205311]\n",
      " [-0.00062781  0.00207744 -0.01220555 ... -0.00526413 -0.0025936\n",
      "   0.00719304]\n",
      " [-0.00104141 -0.00096192 -0.00324972 ... -0.00120177 -0.00165026\n",
      "  -0.01514301]]\n",
      "easer fold: 7, recall@20 = 0.02244582043343653\n",
      "[[ 1.00309337e-03  2.26414716e-03  1.29829916e-02 ... -1.37656750e-03\n",
      "   1.32007552e-03 -1.39047341e-02]\n",
      " [-1.20366875e-04  6.51851357e-04  4.64722278e-04 ... -4.26187016e-03\n",
      "  -1.16976621e-03 -7.79694775e-04]\n",
      " [-3.08682491e-04 -2.47838701e-03 -5.03783781e-03 ...  1.48508560e-02\n",
      "  -1.02742493e-03 -1.09405957e-03]\n",
      " ...\n",
      " [-2.62550697e-05 -1.37553962e-03  3.96024086e-03 ...  3.59320171e-03\n",
      "  -3.94742958e-03 -8.03207051e-03]\n",
      " [ 2.54994425e-03 -1.44596858e-03  5.91822826e-03 ... -2.90311764e-03\n",
      "   4.84456426e-03  6.70296950e-03]\n",
      " [ 3.59301677e-04  8.31719739e-05 -2.15029657e-03 ... -4.83604319e-03\n",
      "  -2.55314916e-03  4.66446230e-03]]\n",
      "easer fold: 8, recall@20 = 0.023926504240139992\n",
      "[[-1.29102464e-03  3.55375538e-03  6.81151317e-03 ...  1.38102211e-02\n",
      "   1.86178148e-03 -1.20605907e-02]\n",
      " [-5.87929232e-04  1.18067521e-03  4.18596832e-04 ... -2.14748764e-03\n",
      "   1.24486107e-04 -3.43000417e-03]\n",
      " [ 3.81925661e-04  1.56267748e-04 -1.04723922e-03 ... -1.99149321e-03\n",
      "  -7.93723127e-03  2.31770775e-03]\n",
      " ...\n",
      " [ 3.44155809e-05 -9.19615966e-04  5.58530680e-03 ...  5.85673368e-03\n",
      "  -2.28436343e-03 -4.31908651e-03]\n",
      " [ 1.93036650e-03  5.60937485e-03 -7.37518894e-03 ...  2.52346766e-03\n",
      "   9.88604766e-04  1.40324259e-02]\n",
      " [-9.88932607e-04 -4.72148317e-04  4.86296920e-04 ...  2.45006147e-03\n",
      "  -3.15417606e-03  2.23241200e-04]]\n",
      "easer fold: 9, recall@20 = 0.023657289002557546\n",
      "mean over 10 folds:  0.02391304347826087\n",
      "standard deviation over 10 folds:  0.0007485866010928784\n"
     ]
    }
   ],
   "source": [
    "result_list=list()\n",
    "for i in range(10):\n",
    "    data = pickle.load(open(data_path+\"data_fold\"+str(i)+\".pkl\", mode='rb'))\n",
    "    model = pickle.load(open(data_path+\"model_fold\"+str(i)+\".pkl\", mode='rb'))\n",
    "\n",
    "    test_data = data[1]\n",
    "    predict_data = data[0]\n",
    "    ratings = predict_data.rating\n",
    "    idx = (predict_data.user_id, predict_data.recipe_id)\n",
    "    x_test = sparse.csc_matrix((ratings, idx), shape=(len(df.user_id.unique()), len(df.recipe_id.unique())), dtype=float)\n",
    "    y_pred = model.predicts(x_test)\n",
    "    # print(y_pred)\n",
    "\n",
    "    #Evaluate recall@k\n",
    "    #Do elementwise multiplication of top K predicts and true interactions\n",
    "\n",
    "    total = 0\n",
    "    correct = 0\n",
    "    wrong = 0\n",
    "    for idx, interaction in test_data.iterrows():\n",
    "        user = interaction['user_id']\n",
    "        user_data = predict_data.loc[(predict_data['user_id'] == user)]\n",
    "        already_interacted_recipes = user_data[user_data.columns[1]].to_numpy()\n",
    "        predicted = y_pred[user]\n",
    "        np.put(predicted, already_interacted_recipes, -5)\n",
    "        ind = (-predicted).argsort()[:K]\n",
    "        recipe = interaction['recipe_id']\n",
    "        if (recipe in ind):\n",
    "            correct += 1\n",
    "        else:\n",
    "            wrong += 1\n",
    "        total += 1\n",
    "    result_list.append(correct / total)\n",
    "    print(\"easer fold: %s, recall@%s = %s\" % (str(i),str(K), str(correct / total)))\n",
    "print(\"mean over 10 folds: \",str(st.mean(result_list)))\n",
    "print(\"standard deviation over 10 folds: \",str(st.pstdev(result_list)))"
   ],
   "metadata": {
    "collapsed": false,
    "pycharm": {
     "name": "#%%\n"
    }
   }
  },
  {
   "cell_type": "code",
   "execution_count": 107,
   "outputs": [
    {
     "name": "stdout",
     "output_type": "stream",
     "text": [
      "popularity fold: 0, recall@20 = 0.00188450666307713\n",
      "popularity fold: 1, recall@20 = 0.001615291425494683\n",
      "popularity fold: 2, recall@20 = 0.0017835509489837124\n",
      "popularity fold: 3, recall@20 = 0.0010768609503297886\n",
      "popularity fold: 4, recall@20 = 0.0027258042805222774\n",
      "popularity fold: 5, recall@20 = 0.00131242428321443\n",
      "popularity fold: 6, recall@20 = 0.002961367613406919\n",
      "popularity fold: 7, recall@20 = 0.0017162471395881006\n",
      "popularity fold: 8, recall@20 = 0.0016825952348902948\n",
      "popularity fold: 9, recall@20 = 0.003903620944945484\n",
      "mean over 10 folds:  0.002066226948445282\n",
      "standard deviation over 10 folds:  0.0008212995366287753\n"
     ]
    }
   ],
   "source": [
    "#recall score for popularity\n",
    "result_list_pop=list()\n",
    "for i in range(10):\n",
    "    data = pickle.load(open(data_path+\"data_fold\"+str(i)+\".pkl\", mode='rb'))\n",
    "    model = pickle.load(open(data_path+\"model_pop_fold\"+str(i)+\".pkl\", mode='rb'))\n",
    "    test_data = data[1]\n",
    "    predict_data = data[0]\n",
    "    pop=model.predict()\n",
    "    total = 0\n",
    "    correct = 0\n",
    "    wrong = 0\n",
    "    for idx, interaction in test_data.iterrows():\n",
    "        user = interaction['user_id']\n",
    "        user_data = predict_data.loc[(predict_data['user_id'] == user)]\n",
    "        already_interacted_recipes = user_data[user_data.columns[1]].to_numpy()\n",
    "        newpop=pop[:50]\n",
    "        newpop=newpop[~np.in1d(newpop,already_interacted_recipes)]\n",
    "        newpop=newpop[:K]\n",
    "        recipe = interaction['recipe_id']\n",
    "        if (recipe in newpop):\n",
    "            correct += 1\n",
    "        else:\n",
    "            wrong += 1\n",
    "        total += 1\n",
    "    result_list_pop.append(correct / total)\n",
    "    print(\"popularity fold: %s, recall@%s = %s\" % (str(i),str(K), str(correct / total)))\n",
    "print(\"mean over 10 folds: \",str(st.mean(result_list_pop)))\n",
    "print(\"standard deviation over 10 folds: \",str(st.pstdev(result_list_pop)))"
   ],
   "metadata": {
    "collapsed": false,
    "pycharm": {
     "name": "#%%\n"
    }
   }
  }
 ],
 "metadata": {
  "kernelspec": {
   "display_name": "Python 3",
   "language": "python",
   "name": "python3"
  },
  "language_info": {
   "codemirror_mode": {
    "name": "ipython",
    "version": 2
   },
   "file_extension": ".py",
   "mimetype": "text/x-python",
   "name": "python",
   "nbconvert_exporter": "python",
   "pygments_lexer": "ipython2",
   "version": "2.7.6"
  }
 },
 "nbformat": 4,
 "nbformat_minor": 0
}