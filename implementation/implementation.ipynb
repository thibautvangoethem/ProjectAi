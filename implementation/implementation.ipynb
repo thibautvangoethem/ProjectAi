{
 "cells": [
  {
   "cell_type": "markdown",
   "source": [
    "first of we start with preprocessing the raw data"
   ],
   "metadata": {
    "collapsed": false,
    "pycharm": {
     "name": "#%% md\n"
    }
   }
  },
  {
   "cell_type": "code",
   "execution_count": 1,
   "metadata": {
    "collapsed": true
   },
   "outputs": [],
   "source": [
    "import pandas as pd\n",
    "import numpy as np\n",
    "import scipy"
   ]
  },
  {
   "cell_type": "code",
   "execution_count": 2,
   "outputs": [
    {
     "data": {
      "text/plain": "            user_id  recipe_id  rating\n0             38094      40893       4\n1           1293707      40893       5\n2              8937      44394       4\n3            126440      85009       5\n4             57222      85009       5\n...             ...        ...     ...\n1132362      116593      72730       0\n1132363      583662     386618       5\n1132364      157126      78003       5\n1132365       53932      78003       4\n1132366  2001868099      78003       5\n\n[1132367 rows x 3 columns]",
      "text/html": "<div>\n<style scoped>\n    .dataframe tbody tr th:only-of-type {\n        vertical-align: middle;\n    }\n\n    .dataframe tbody tr th {\n        vertical-align: top;\n    }\n\n    .dataframe thead th {\n        text-align: right;\n    }\n</style>\n<table border=\"1\" class=\"dataframe\">\n  <thead>\n    <tr style=\"text-align: right;\">\n      <th></th>\n      <th>user_id</th>\n      <th>recipe_id</th>\n      <th>rating</th>\n    </tr>\n  </thead>\n  <tbody>\n    <tr>\n      <th>0</th>\n      <td>38094</td>\n      <td>40893</td>\n      <td>4</td>\n    </tr>\n    <tr>\n      <th>1</th>\n      <td>1293707</td>\n      <td>40893</td>\n      <td>5</td>\n    </tr>\n    <tr>\n      <th>2</th>\n      <td>8937</td>\n      <td>44394</td>\n      <td>4</td>\n    </tr>\n    <tr>\n      <th>3</th>\n      <td>126440</td>\n      <td>85009</td>\n      <td>5</td>\n    </tr>\n    <tr>\n      <th>4</th>\n      <td>57222</td>\n      <td>85009</td>\n      <td>5</td>\n    </tr>\n    <tr>\n      <th>...</th>\n      <td>...</td>\n      <td>...</td>\n      <td>...</td>\n    </tr>\n    <tr>\n      <th>1132362</th>\n      <td>116593</td>\n      <td>72730</td>\n      <td>0</td>\n    </tr>\n    <tr>\n      <th>1132363</th>\n      <td>583662</td>\n      <td>386618</td>\n      <td>5</td>\n    </tr>\n    <tr>\n      <th>1132364</th>\n      <td>157126</td>\n      <td>78003</td>\n      <td>5</td>\n    </tr>\n    <tr>\n      <th>1132365</th>\n      <td>53932</td>\n      <td>78003</td>\n      <td>4</td>\n    </tr>\n    <tr>\n      <th>1132366</th>\n      <td>2001868099</td>\n      <td>78003</td>\n      <td>5</td>\n    </tr>\n  </tbody>\n</table>\n<p>1132367 rows × 3 columns</p>\n</div>"
     },
     "execution_count": 2,
     "metadata": {},
     "output_type": "execute_result"
    }
   ],
   "source": [
    "df = pd.read_csv('../data/RAW_interactions.csv')\n",
    "df.drop('review', axis=1, inplace=True)\n",
    "df.drop('date', axis=1, inplace=True)\n",
    "df.reset_index()\n",
    "df.drop_duplicates(subset=['user_id', 'recipe_id'])"
   ],
   "metadata": {
    "collapsed": false,
    "pycharm": {
     "name": "#%%\n"
    }
   }
  },
  {
   "cell_type": "code",
   "execution_count": 3,
   "outputs": [],
   "source": [
    "#Set all ratings to 1 (even negative interactions are seen as interactions)\n",
    "# df.loc[:,'rating'] = 1"
   ],
   "metadata": {
    "collapsed": false,
    "pycharm": {
     "name": "#%%\n"
    }
   }
  },
  {
   "cell_type": "code",
   "execution_count": 4,
   "outputs": [
    {
     "data": {
      "text/plain": "          index     user_id  recipe_id  rating\n0             2        8937      44394       4\n1             8       76535     134728       4\n2             9      273745     134728       5\n3            10      353911     134728       5\n4            11      190375     134728       5\n...         ...         ...        ...     ...\n112047  1132311     1630384     421875       4\n112048  1132362      116593      72730       0\n112049  1132364      157126      78003       5\n112050  1132365       53932      78003       4\n112051  1132366  2001868099      78003       5\n\n[112052 rows x 4 columns]",
      "text/html": "<div>\n<style scoped>\n    .dataframe tbody tr th:only-of-type {\n        vertical-align: middle;\n    }\n\n    .dataframe tbody tr th {\n        vertical-align: top;\n    }\n\n    .dataframe thead th {\n        text-align: right;\n    }\n</style>\n<table border=\"1\" class=\"dataframe\">\n  <thead>\n    <tr style=\"text-align: right;\">\n      <th></th>\n      <th>index</th>\n      <th>user_id</th>\n      <th>recipe_id</th>\n      <th>rating</th>\n    </tr>\n  </thead>\n  <tbody>\n    <tr>\n      <th>0</th>\n      <td>2</td>\n      <td>8937</td>\n      <td>44394</td>\n      <td>4</td>\n    </tr>\n    <tr>\n      <th>1</th>\n      <td>8</td>\n      <td>76535</td>\n      <td>134728</td>\n      <td>4</td>\n    </tr>\n    <tr>\n      <th>2</th>\n      <td>9</td>\n      <td>273745</td>\n      <td>134728</td>\n      <td>5</td>\n    </tr>\n    <tr>\n      <th>3</th>\n      <td>10</td>\n      <td>353911</td>\n      <td>134728</td>\n      <td>5</td>\n    </tr>\n    <tr>\n      <th>4</th>\n      <td>11</td>\n      <td>190375</td>\n      <td>134728</td>\n      <td>5</td>\n    </tr>\n    <tr>\n      <th>...</th>\n      <td>...</td>\n      <td>...</td>\n      <td>...</td>\n      <td>...</td>\n    </tr>\n    <tr>\n      <th>112047</th>\n      <td>1132311</td>\n      <td>1630384</td>\n      <td>421875</td>\n      <td>4</td>\n    </tr>\n    <tr>\n      <th>112048</th>\n      <td>1132362</td>\n      <td>116593</td>\n      <td>72730</td>\n      <td>0</td>\n    </tr>\n    <tr>\n      <th>112049</th>\n      <td>1132364</td>\n      <td>157126</td>\n      <td>78003</td>\n      <td>5</td>\n    </tr>\n    <tr>\n      <th>112050</th>\n      <td>1132365</td>\n      <td>53932</td>\n      <td>78003</td>\n      <td>4</td>\n    </tr>\n    <tr>\n      <th>112051</th>\n      <td>1132366</td>\n      <td>2001868099</td>\n      <td>78003</td>\n      <td>5</td>\n    </tr>\n  </tbody>\n</table>\n<p>112052 rows × 4 columns</p>\n</div>"
     },
     "execution_count": 4,
     "metadata": {},
     "output_type": "execute_result"
    }
   ],
   "source": [
    "#randomly drop a subset of data as we dont have enough resource to run the entire dataset\n",
    "unique_recipes = df.recipe_id.unique()\n",
    "subset = np.random.choice(unique_recipes, size=int(len(unique_recipes)/10), replace=False, p=None)\n",
    "# Keep only the recipes that were in the randomly sampled df\n",
    "df = df[df['recipe_id'].isin(subset)]\n",
    "df.reset_index()"
   ],
   "metadata": {
    "collapsed": false,
    "pycharm": {
     "name": "#%%\n"
    }
   }
  },
  {
   "cell_type": "code",
   "execution_count": 5,
   "outputs": [],
   "source": [
    "#Preprocessing step where we remove all recipes that only have a single review from a person that only has a single review\n",
    "#This is done as these items will never be connected to other items and thus will never be recommended\n",
    "\n",
    "df['counts'] = df.groupby(['recipe_id'])['recipe_id'].transform('size')\n",
    "df['counts_user'] = df.groupby(['user_id'])['user_id'].transform('size')\n",
    "# 1121916 interaction in df after the and drop\n",
    "# df = df.drop(df[(df['counts'] == 1) & (df['counts_user'] == 1)].index)\n",
    "\n",
    "# 884607 interactions after the or drop\n",
    "df=df.drop(df[(df['counts']==1)|(df['counts_user']==1)].index)\n",
    "df.drop(['counts', 'counts_user'], axis=1, inplace=True)\n",
    "df.reset_index(drop=True, inplace=True)"
   ],
   "metadata": {
    "collapsed": false,
    "pycharm": {
     "name": "#%%\n"
    }
   }
  },
  {
   "cell_type": "markdown",
   "source": [
    "The recipes and users don't go from 0 to amount so if we were to put this in a matrix we would get empty columns and rows. This is not that handy so we reindex both the user_id and recipe_ids\n",
    "\n",
    "This is a step we must not forget when entering the data in the model, as we also need to remap our input data using the same remapping that was used here"
   ],
   "metadata": {
    "collapsed": false,
    "pycharm": {
     "name": "#%% md\n"
    }
   }
  },
  {
   "cell_type": "code",
   "execution_count": 6,
   "outputs": [],
   "source": [
    "userSet = set(df['user_id'].to_list())\n",
    "user_transform_dict = dict(map(reversed, enumerate(userSet)))\n",
    "recipeSet = set(df['recipe_id'].to_list())\n",
    "recipe_transform_dict = dict(map(reversed, enumerate(recipeSet)))"
   ],
   "metadata": {
    "collapsed": false,
    "pycharm": {
     "name": "#%%\n"
    }
   }
  },
  {
   "cell_type": "code",
   "execution_count": 7,
   "outputs": [],
   "source": [
    "keep_nan = [k for k, v in user_transform_dict.items() if pd.isnull(v)]\n",
    "tochange = df['user_id']\n",
    "df['user_id'] = tochange.map(user_transform_dict).fillna(tochange.mask(tochange.isin(keep_nan)))\n",
    "\n",
    "keep_nan = [k for k, v in recipe_transform_dict.items() if pd.isnull(v)]\n",
    "tochange = df['recipe_id']\n",
    "df['recipe_id'] = tochange.map(recipe_transform_dict).fillna(tochange.mask(tochange.isin(keep_nan)))\n"
   ],
   "metadata": {
    "collapsed": false,
    "pycharm": {
     "name": "#%%\n"
    }
   }
  },
  {
   "cell_type": "markdown",
   "source": [
    "Creation of the folds for k-fold validation"
   ],
   "metadata": {
    "collapsed": false,
    "pycharm": {
     "name": "#%% md\n"
    }
   }
  },
  {
   "cell_type": "code",
   "execution_count": 8,
   "outputs": [],
   "source": [
    "unique_users = df.user_id.unique()\n",
    "\n",
    "unique_users.sort(axis=0)"
   ],
   "metadata": {
    "collapsed": false,
    "pycharm": {
     "name": "#%%\n"
    }
   }
  },
  {
   "cell_type": "code",
   "execution_count": 9,
   "outputs": [],
   "source": [
    "from sklearn.model_selection import train_test_split, KFold\n",
    "\n",
    "k = 2\n",
    "kf = KFold(n_splits=k)\n",
    "kf.get_n_splits(df)\n",
    "folds = list()\n",
    "for train_index, test_index in kf.split(unique_users):\n",
    "    X_train = df.query('user_id in @train_index')\n",
    "    X_test = df.query('user_id in @test_index')\n",
    "    folds.append((X_train, X_test))"
   ],
   "metadata": {
    "collapsed": false,
    "pycharm": {
     "name": "#%%\n"
    }
   }
  },
  {
   "cell_type": "markdown",
   "source": [
    "Here starts the actual programming of the model"
   ],
   "metadata": {
    "collapsed": false
   }
  },
  {
   "cell_type": "code",
   "execution_count": 10,
   "outputs": [],
   "source": [
    "class Easer:\n",
    "    def __init__(self):\n",
    "        pass\n",
    "\n",
    "    def train(self, X_train, lambda_=0.5):\n",
    "        self.X = X_train\n",
    "\n",
    "        #X_train_t=X_train.copy().transpose()\n",
    "        G = X_train.T.dot(X_train)  # sparse\n",
    "        G=G.toarray()\n",
    "        #G= X_train.T.dot(X_train).toarray() # dense\n",
    "        diagIndices = np.diag_indices(G.shape[0])\n",
    "        G[diagIndices] += lambda_\n",
    "        P = scipy.linalg.inv(G)  # sparse\n",
    "        #P = np.linalg.inv(G) # dense\n",
    "        # dense diagonal retrieval (for some reason i cant get this to work on sparse matrixes something with the dimensions being wrong)\n",
    "        div = -np.diag(P)\n",
    "        self.B = P / div\n",
    "        self.B[diagIndices] = 0\n",
    "\n",
    "        self.pred = self.X * self.B\n",
    "\n",
    "    def predicts(self, xu):\n",
    "        #TODO give back the predicted vector given a user interaction vector\n",
    "        return xu * self.B\n"
   ],
   "metadata": {
    "collapsed": false,
    "pycharm": {
     "name": "#%%\n"
    }
   }
  },
  {
   "cell_type": "code",
   "execution_count": 11,
   "outputs": [
    {
     "name": "stdout",
     "output_type": "stream",
     "text": [
      "10153\n",
      "13427\n",
      "done\n",
      "training took :  39.408345222473145 s\n"
     ]
    }
   ],
   "source": [
    "import time\n",
    "import pickle\n",
    "from scipy import sparse\n",
    "for f_idx,i in enumerate(folds):\n",
    "    start = time.time()\n",
    "    #for fold in folds: # removed for loop for testing\n",
    "    train_data = i[0]\n",
    "    ratings = train_data.rating\n",
    "    idx = (train_data.user_id, train_data.recipe_id)\n",
    "    print(len(df.user_id.unique()))\n",
    "    print(len(df.recipe_id.unique()))\n",
    "    #Here we have the user item matrix\n",
    "    X_train = sparse.csc_matrix((ratings, idx), shape=(len(df.user_id.unique()), len(df.recipe_id.unique())), dtype=float)\n",
    "    #train model\n",
    "    model = Easer()\n",
    "    model.train(X_train)\n",
    "    print(\"done\")\n",
    "    end = time.time()\n",
    "    print(\"training took : \",end - start,\"s\")\n",
    "    datafile=open(\"D:\\\\results_aiproject\\\\data_fold\"+str(f_idx)+\".pkl\",mode='wb')\n",
    "    pickle.dump(i,datafile)\n",
    "    modelfile=open(\"D:\\\\results_aiproject\\\\model_fold\"+str(f_idx)+\".pkl\",mode='wb')\n",
    "    pickle.dump(model,modelfile)\n",
    "    datafile.close()\n",
    "    modelfile.close()\n",
    "    break"
   ],
   "metadata": {
    "collapsed": false,
    "pycharm": {
     "name": "#%%\n"
    }
   }
  },
  {
   "cell_type": "code",
   "execution_count": 12,
   "outputs": [],
   "source": [
    "def remove_single_interaction(data):\n",
    "    removed_recipes=dict()\n",
    "    users=data.user_id.unique()\n",
    "    for user in users:\n",
    "        user_data=data.loc[(data['user_id']==user)]\n",
    "        row=user_data.sample()\n",
    "        removed_recipes[user]=row['recipe_id'].iat[0]\n",
    "        data=data.drop(data[(data[\"recipe_id\"] == row[\"recipe_id\"].iat[0]) & (data[\"user_id\"] ==row[\"user_id\"].iat[0])].index)\n",
    "    return (data,removed_recipes)"
   ],
   "metadata": {
    "collapsed": false,
    "pycharm": {
     "name": "#%%\n"
    }
   }
  },
  {
   "cell_type": "code",
   "execution_count": 13,
   "outputs": [
    {
     "name": "stdout",
     "output_type": "stream",
     "text": [
      "[[-4.09486739e-02  0.00000000e+00  2.27742384e-01 ...  0.00000000e+00\n",
      "   2.86319020e-02  0.00000000e+00]\n",
      " [ 8.72115303e-04  0.00000000e+00 -1.23126466e-01 ...  0.00000000e+00\n",
      "   9.50088586e-03  0.00000000e+00]\n",
      " [ 0.00000000e+00  0.00000000e+00  0.00000000e+00 ...  0.00000000e+00\n",
      "   0.00000000e+00  0.00000000e+00]\n",
      " ...\n",
      " [ 2.91849529e-03  0.00000000e+00 -3.23695011e-01 ...  0.00000000e+00\n",
      "  -2.27084752e-02  0.00000000e+00]\n",
      " [ 2.96987310e-05  0.00000000e+00 -1.58024958e-03 ...  0.00000000e+00\n",
      "   3.85714210e-04  0.00000000e+00]\n",
      " [ 4.53880962e-04  0.00000000e+00  4.46710192e-02 ...  0.00000000e+00\n",
      "   1.15878473e-02  0.00000000e+00]]\n"
     ]
    }
   ],
   "source": [
    "data=pickle.load(open(\"D:\\\\results_aiproject\\\\data_fold0.pkl\",mode='rb'))\n",
    "model=pickle.load(open(\"D:\\\\results_aiproject\\\\model_fold0.pkl\",mode='rb'))\n",
    "\n",
    "\n",
    "test_data=data[1]\n",
    "temp_result=remove_single_interaction(test_data)\n",
    "# test_data.reset_index(drop=True, inplace=True)\n",
    "removed_test_data=temp_result[0]\n",
    "removed_recipes=temp_result[1]\n",
    "ratings = removed_test_data.rating\n",
    "idx = (removed_test_data.user_id, removed_test_data.recipe_id)\n",
    "x_test=sparse.csc_matrix((ratings, idx), shape=(len(test_data.user_id.unique()), len(df.recipe_id.unique())), dtype=float)\n",
    "y_pred = model.predicts(x_test)\n",
    "print(y_pred)"
   ],
   "metadata": {
    "collapsed": false,
    "pycharm": {
     "name": "#%%\n"
    }
   }
  },
  {
   "cell_type": "code",
   "execution_count": 15,
   "outputs": [
    {
     "name": "stdout",
     "output_type": "stream",
     "text": [
      "recall@20 = 0.034666141422099665\n"
     ]
    }
   ],
   "source": [
    "#Evaluate recall@k\n",
    "#Do elementwise multiplication of top K predicts and true interactions\n",
    "K = 20\n",
    "total=0\n",
    "correct=0\n",
    "wrong=0\n",
    "for user in test_data.user_id.unique():\n",
    "    user_data=removed_test_data.loc[(removed_test_data['user_id']==user)]\n",
    "    already_interacted_recipes=user_data[user_data.columns[1]].to_numpy()\n",
    "    predicted=y_pred[user]\n",
    "    np.put(predicted, already_interacted_recipes,  -5)\n",
    "    ind = (-predicted).argsort()[:K]\n",
    "    # ratings = removed_test_data.rating\n",
    "    # idx = (removed_test_data.user_id, removed_test_data.recipe_id)\n",
    "    # x_test=sparse.csc_matrix((ratings, idx), shape=(len(test_data.user_id.unique()), len(df.recipe_id.unique())), dtype=float)\n",
    "    # temp = (X_test == 1).toarray()\n",
    "    # model.pred[temp] = -100000\n",
    "    # test = (-model.pred).argsort()[:,:10]\n",
    "    if(removed_recipes[user] in ind):\n",
    "        correct+=1\n",
    "    else:\n",
    "        wrong+=1\n",
    "    total+=1\n",
    "print(\"recall@%s = %s\"%(str(K),str(correct/total)))"
   ],
   "metadata": {
    "collapsed": false,
    "pycharm": {
     "name": "#%%\n"
    }
   }
  }
 ],
 "metadata": {
  "kernelspec": {
   "display_name": "Python 3",
   "language": "python",
   "name": "python3"
  },
  "language_info": {
   "codemirror_mode": {
    "name": "ipython",
    "version": 2
   },
   "file_extension": ".py",
   "mimetype": "text/x-python",
   "name": "python",
   "nbconvert_exporter": "python",
   "pygments_lexer": "ipython2",
   "version": "2.7.6"
  }
 },
 "nbformat": 4,
 "nbformat_minor": 0
}