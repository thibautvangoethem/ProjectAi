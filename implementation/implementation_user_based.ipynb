{
 "cells": [
  {
   "cell_type": "markdown",
   "source": [
    "# project ai: Easer\n",
    "\n",
    "by Michiel Téblick and thibaut Van Goethem\n",
    "\n",
    "In this notebook we will look at the easer model proposed at https://dl.acm.org/doi/pdf/10.1145/3308558.3313710.\n",
    "\n",
    "This model will be applied to a dataset from foods.com which containes a bunch of recipes with user ratings/reactions on them.\n",
    "\n",
    "\n"
   ],
   "metadata": {
    "collapsed": false
   }
  },
  {
   "cell_type": "code",
   "execution_count": 1,
   "metadata": {
    "collapsed": true
   },
   "outputs": [],
   "source": [
    "import math\n",
    "\n",
    "import pandas as pd\n",
    "import numpy as np\n",
    "import scipy\n",
    "from sklearn.model_selection import KFold\n",
    "import time\n",
    "import pickle\n",
    "from scipy import sparse\n",
    "import statistics as st"
   ]
  },
  {
   "cell_type": "markdown",
   "source": [
    "## Reading and preprocessing the data"
   ],
   "metadata": {
    "collapsed": false
   }
  },
  {
   "cell_type": "code",
   "execution_count": 2,
   "outputs": [
    {
     "name": "stdout",
     "output_type": "stream",
     "text": [
      "amount of interactions in the full dataset:  733951\n",
      "amount of recipes in the full dataset:  80511\n",
      "amount of users in the full dataset:  32635\n"
     ]
    },
    {
     "data": {
      "text/plain": "         index  user_id  recipe_id        date  rating  \\\n0            0    56680      79222  2006-11-11       5   \n1            1   827374      79222  2010-11-29       3   \n2            2   462571     208980  2007-07-05       5   \n3            3   222139     208980  2007-09-08       5   \n4            4   423539     342209  2009-06-02       5   \n...        ...      ...        ...         ...     ...   \n733946  151908    96177     196735  2009-01-12       5   \n733947  151909   573325     196735  2010-09-08       5   \n733948  151910   203111     213546  2007-06-28       5   \n733949  151911    41468      82303  2006-09-01       5   \n733950  151912   207616      40514  2008-07-10       5   \n\n                                                   review  count_user  \\\n0       Oh, This was wonderful!  Had a soup and salad ...         174   \n1       We made this last night and really enjoyed it....          10   \n2       These were a snap to whip up and were fantasti...          87   \n3       I chose this recipe from Fall Pick A Chef.  Co...         446   \n4       These are lovely cookies not bland at all. \\r\\...          35   \n...                                                   ...         ...   \n733946  We just loved these tatters. Quick easy and ve...         563   \n733947  What a great, healthy, easy and yummy recipe!<...         880   \n733948  Very good potatoes!  I served them with fried ...         217   \n733949  WOW this was great. What I love the most is th...          30   \n733950  A quick and easy lunch for me using little bit...         149   \n\n        count_item  \n0               18  \n1               18  \n2                8  \n3                8  \n4                8  \n...            ...  \n733946          17  \n733947          17  \n733948           6  \n733949          13  \n733950           4  \n\n[733951 rows x 8 columns]",
      "text/html": "<div>\n<style scoped>\n    .dataframe tbody tr th:only-of-type {\n        vertical-align: middle;\n    }\n\n    .dataframe tbody tr th {\n        vertical-align: top;\n    }\n\n    .dataframe thead th {\n        text-align: right;\n    }\n</style>\n<table border=\"1\" class=\"dataframe\">\n  <thead>\n    <tr style=\"text-align: right;\">\n      <th></th>\n      <th>index</th>\n      <th>user_id</th>\n      <th>recipe_id</th>\n      <th>date</th>\n      <th>rating</th>\n      <th>review</th>\n      <th>count_user</th>\n      <th>count_item</th>\n    </tr>\n  </thead>\n  <tbody>\n    <tr>\n      <th>0</th>\n      <td>0</td>\n      <td>56680</td>\n      <td>79222</td>\n      <td>2006-11-11</td>\n      <td>5</td>\n      <td>Oh, This was wonderful!  Had a soup and salad ...</td>\n      <td>174</td>\n      <td>18</td>\n    </tr>\n    <tr>\n      <th>1</th>\n      <td>1</td>\n      <td>827374</td>\n      <td>79222</td>\n      <td>2010-11-29</td>\n      <td>3</td>\n      <td>We made this last night and really enjoyed it....</td>\n      <td>10</td>\n      <td>18</td>\n    </tr>\n    <tr>\n      <th>2</th>\n      <td>2</td>\n      <td>462571</td>\n      <td>208980</td>\n      <td>2007-07-05</td>\n      <td>5</td>\n      <td>These were a snap to whip up and were fantasti...</td>\n      <td>87</td>\n      <td>8</td>\n    </tr>\n    <tr>\n      <th>3</th>\n      <td>3</td>\n      <td>222139</td>\n      <td>208980</td>\n      <td>2007-09-08</td>\n      <td>5</td>\n      <td>I chose this recipe from Fall Pick A Chef.  Co...</td>\n      <td>446</td>\n      <td>8</td>\n    </tr>\n    <tr>\n      <th>4</th>\n      <td>4</td>\n      <td>423539</td>\n      <td>342209</td>\n      <td>2009-06-02</td>\n      <td>5</td>\n      <td>These are lovely cookies not bland at all. \\r\\...</td>\n      <td>35</td>\n      <td>8</td>\n    </tr>\n    <tr>\n      <th>...</th>\n      <td>...</td>\n      <td>...</td>\n      <td>...</td>\n      <td>...</td>\n      <td>...</td>\n      <td>...</td>\n      <td>...</td>\n      <td>...</td>\n    </tr>\n    <tr>\n      <th>733946</th>\n      <td>151908</td>\n      <td>96177</td>\n      <td>196735</td>\n      <td>2009-01-12</td>\n      <td>5</td>\n      <td>We just loved these tatters. Quick easy and ve...</td>\n      <td>563</td>\n      <td>17</td>\n    </tr>\n    <tr>\n      <th>733947</th>\n      <td>151909</td>\n      <td>573325</td>\n      <td>196735</td>\n      <td>2010-09-08</td>\n      <td>5</td>\n      <td>What a great, healthy, easy and yummy recipe!&lt;...</td>\n      <td>880</td>\n      <td>17</td>\n    </tr>\n    <tr>\n      <th>733948</th>\n      <td>151910</td>\n      <td>203111</td>\n      <td>213546</td>\n      <td>2007-06-28</td>\n      <td>5</td>\n      <td>Very good potatoes!  I served them with fried ...</td>\n      <td>217</td>\n      <td>6</td>\n    </tr>\n    <tr>\n      <th>733949</th>\n      <td>151911</td>\n      <td>41468</td>\n      <td>82303</td>\n      <td>2006-09-01</td>\n      <td>5</td>\n      <td>WOW this was great. What I love the most is th...</td>\n      <td>30</td>\n      <td>13</td>\n    </tr>\n    <tr>\n      <th>733950</th>\n      <td>151912</td>\n      <td>207616</td>\n      <td>40514</td>\n      <td>2008-07-10</td>\n      <td>5</td>\n      <td>A quick and easy lunch for me using little bit...</td>\n      <td>149</td>\n      <td>4</td>\n    </tr>\n  </tbody>\n</table>\n<p>733951 rows × 8 columns</p>\n</div>"
     },
     "execution_count": 2,
     "metadata": {},
     "output_type": "execute_result"
    }
   ],
   "source": [
    "use_less_data = False\n",
    "\n",
    "\n",
    "df_train = pd.read_csv('../folds/fold_0/train.csv')\n",
    "df_test = pd.read_csv('../folds/fold_0/test.csv')\n",
    "df_validate = pd.read_csv('../folds/fold_0/validate.csv')\n",
    "df = pd.concat([df_train, df_test, df_validate])\n",
    "\n",
    "print(\"amount of interactions in the full dataset: \",len(df))\n",
    "print(\"amount of recipes in the full dataset: \",len(df.recipe_id.unique()))\n",
    "print(\"amount of users in the full dataset: \",len(df.user_id.unique()))\n",
    "\n",
    "if use_less_data:\n",
    "    df = df[df['count_user'] >= 20]\n",
    "    print(\"amount of recipes in the smaller dataset: \",len(df.recipe_id.unique()))\n",
    "    print(\"amount of users in the smaller dataset: \",len(df.user_id.unique()))\n",
    "df.reset_index()\n"
   ],
   "metadata": {
    "collapsed": false,
    "pycharm": {
     "name": "#%%\n"
    }
   }
  },
  {
   "cell_type": "markdown",
   "source": [
    "Set all ratings to 1 (even negative interactions are seen as interactions)"
   ],
   "metadata": {
    "collapsed": false,
    "pycharm": {
     "name": "#%% md\n"
    }
   }
  },
  {
   "cell_type": "code",
   "execution_count": 3,
   "outputs": [],
   "source": [
    "df.loc[:,'rating'] = 1"
   ],
   "metadata": {
    "collapsed": false,
    "pycharm": {
     "name": "#%%\n"
    }
   }
  },
  {
   "cell_type": "markdown",
   "source": [
    "Below here are two ways to cut down on the amount of interactions that are used in this notebook\n",
    "- The first one randomly removes x% of the users,\n",
    "- The second one removes all user and recipes that have less than X amount of interaction containing them\n",
    "\n",
    "We opted for the second form as this is more representative of how the models should be used due to the lower amount if recipes but more reactions per recipe. Also the second choice is a deterministic way of removing data, which the first one is not.\n",
    "This does end up mostly giving slightly worse result compared to the first choice.\n",
    "\n",
    "The reason we need to remove data is because a matrix inversion is done, which can not be done in a smart way.\n",
    "Also the result of the inversion is not necessarily a sparse matrix so the full calculation needs to be done on dense matrices. This end up scaling O(n^3) in time complexity and O(n^2) for memory needed. n here is the amount of recipes.\n",
    "So running on the full dataset would require more than 200gb of ram which we do not have.\n"
   ],
   "metadata": {
    "collapsed": false
   }
  },
  {
   "cell_type": "markdown",
   "source": [
    "### rescaling the id's\n",
    "The recipes and users don't go from 0 to amount so if we were to put this in a matrix we would get empty columns and rows. This is not that handy so we reindex both the user_id and recipe_ids\n",
    "\n",
    "This is a step we must not forget when entering the data in the model, as we also need to remap our input data using the same remapping that was used here"
   ],
   "metadata": {
    "collapsed": false,
    "pycharm": {
     "name": "#%% md\n"
    }
   }
  },
  {
   "cell_type": "code",
   "execution_count": 4,
   "outputs": [],
   "source": [
    "userSet = set(df['user_id'].to_list())\n",
    "user_transform_dict = dict(map(reversed, enumerate(userSet)))\n",
    "recipeSet = set(df['recipe_id'].to_list())\n",
    "recipe_transform_dict = dict(map(reversed, enumerate(recipeSet)))\n",
    "recipe_dict = dict(enumerate(recipeSet))"
   ],
   "metadata": {
    "collapsed": false,
    "pycharm": {
     "name": "#%%\n"
    }
   }
  },
  {
   "cell_type": "code",
   "execution_count": 5,
   "outputs": [],
   "source": [
    "keep_nan_user = [k for k, v in user_transform_dict.items() if pd.isnull(v)]\n",
    "keep_nan_recipe = [k for k, v in recipe_transform_dict.items() if pd.isnull(v)]\n",
    "\n",
    "\n",
    "def transform_id(dataframe):\n",
    "    tochange = dataframe['user_id']\n",
    "    dataframe['user_id'] = tochange.map(user_transform_dict).fillna(tochange.mask(tochange.isin(keep_nan_user)))\n",
    "\n",
    "    tochange = dataframe['recipe_id']\n",
    "    dataframe['recipe_id'] = tochange.map(recipe_transform_dict).fillna(tochange.mask(tochange.isin(keep_nan_recipe)))\n",
    "    return dataframe\n",
    "\n",
    "def open_csv(filename, use_less_data=False):\n",
    "    df = pd.read_csv(filename)\n",
    "    if use_less_data:\n",
    "        df = df[df['count_user'] >= 20]\n",
    "    df = transform_id(df)\n",
    "    df.loc[:,'rating'] = 1\n",
    "    df.drop('review', axis=1, inplace=True)\n",
    "    return df\n"
   ],
   "metadata": {
    "collapsed": false,
    "pycharm": {
     "name": "#%%\n"
    }
   }
  },
  {
   "cell_type": "markdown",
   "source": [
    "### Creation of the folds\n"
   ],
   "metadata": {
    "collapsed": false,
    "pycharm": {
     "name": "#%% md\n"
    }
   }
  },
  {
   "cell_type": "code",
   "execution_count": 6,
   "outputs": [],
   "source": [
    "k = 10\n",
    "folds = list()\n",
    "for directory in [\"../folds/fold_%d\" % i for i in range(k)]:\n",
    "    folds.append(( directory + \"/train.csv\", directory + \"/validate.csv\",directory + \"/test.csv\"))"
   ],
   "metadata": {
    "collapsed": false,
    "pycharm": {
     "name": "#%%\n"
    }
   }
  },
  {
   "cell_type": "markdown",
   "source": [
    "## Creation model\n",
    "Here we define the models used for the experiments. Both the easer predictor and a populaliry predictor are created. the popularity predictor is used as a baseline"
   ],
   "metadata": {
    "collapsed": false
   }
  },
  {
   "cell_type": "code",
   "execution_count": 7,
   "outputs": [],
   "source": [
    "def split_test(data_set):\n",
    "    ground_truth = data_set.sort_values('date').groupby('user_id').tail(1)\n",
    "    predict = pd.concat([data_set, ground_truth]).drop_duplicates(keep=False)\n",
    "    return predict, ground_truth\n",
    "\n",
    "def data_frame_to_matrix(dataframe):\n",
    "    ratings = dataframe.rating\n",
    "    idx = (dataframe.recipe_id, dataframe.user_id)\n",
    "    return sparse.csc_matrix((ratings, idx), shape=(len(df.recipe_id.unique()), len(df.user_id.unique())),\n",
    "                                dtype=float)"
   ],
   "metadata": {
    "collapsed": false,
    "pycharm": {
     "name": "#%%\n"
    }
   }
  },
  {
   "cell_type": "code",
   "execution_count": 8,
   "outputs": [],
   "source": [
    "class popularity:\n",
    "    def __init__(self):\n",
    "        pass\n",
    "    def train(self, data):\n",
    "        data = data.sort_values('count_user',ascending=False)\n",
    "        self.pop = data[data.columns[1]].to_numpy()\n",
    "    def predict(self):\n",
    "        return self.pop"
   ],
   "metadata": {
    "collapsed": false,
    "pycharm": {
     "name": "#%%\n"
    }
   }
  },
  {
   "cell_type": "code",
   "execution_count": 9,
   "outputs": [],
   "source": [
    "class Easer:\n",
    "    def __init__(self):\n",
    "        pass\n",
    "\n",
    "    def train(self, X_train, lambda_=1250):\n",
    "        #Code here is a modified version of the code provided in the paper\n",
    "\n",
    "        G = X_train.T.dot(X_train)\n",
    "        G = G.toarray()\n",
    "        diagIndices = np.diag_indices(G.shape[0])\n",
    "        G[diagIndices] += lambda_\n",
    "        P = scipy.linalg.inv(G)\n",
    "        del G\n",
    "        div = -np.diag(P)\n",
    "        self.B = P / div\n",
    "        self.B[diagIndices] = 0\n",
    "\n",
    "    def predict(self, xu):\n",
    "        return xu * self.B\n"
   ],
   "metadata": {
    "collapsed": false,
    "pycharm": {
     "name": "#%%\n"
    }
   }
  },
  {
   "cell_type": "code",
   "execution_count": 10,
   "outputs": [],
   "source": [
    "K = 5\n",
    "K2 = 10\n",
    "K3 = 20\n",
    "\n",
    "def recal_easer(model, predict_data, test_data):\n",
    "    total = len(test_data)\n",
    "\n",
    "    X_train = data_frame_to_matrix(predict_data)\n",
    "    y_pred = model.predict(X_train)\n",
    "    y_pred = y_pred.T\n",
    "\n",
    "    X_test = data_frame_to_matrix(test_data)\n",
    "    X_test = X_test.T\n",
    "\n",
    "    interacted_recipes = (X_train.T == 1).toarray()\n",
    "    y_pred[interacted_recipes] = -100000\n",
    "    idx_top_scores = (-y_pred).argsort()[:,:20]\n",
    "    dense_X_test = X_test.toarray()\n",
    "\n",
    "    correct_K = 0\n",
    "    correct_K2 = 0\n",
    "    correct_K3 = 0\n",
    "    ndcg_K = 0\n",
    "    ndcg_K2 = 0\n",
    "    ndcg_K3 = 0\n",
    "\n",
    "    for idx, row in enumerate(idx_top_scores):\n",
    "        for rank, index in enumerate(row):\n",
    "            if dense_X_test[idx][index] == 1:\n",
    "                if rank < K:\n",
    "                    correct_K += 1\n",
    "                    ndcg_K += 1/(math.log2(rank+2))\n",
    "                if rank < K2:\n",
    "                    correct_K2 += 1\n",
    "                    ndcg_K2 += 1/(math.log2(rank+2))\n",
    "                if rank < K3:\n",
    "                    correct_K3 += 1\n",
    "                    ndcg_K3 += 1/(math.log2(rank+2))\n",
    "\n",
    "\n",
    "    print(\"easer recall@5,10,20 = %s,%s,%s\" % (str(correct_K / total),str(correct_K2 / total),str(correct_K3 / total)))\n",
    "    print(\"easer ndcg@5,10,20 = %s,%s,%s\" % (str(ndcg_K / total),str(ndcg_K2 / total),str(ndcg_K3 / total)), end=\"\\n\\n\")\n",
    "\n",
    "    return correct_K/total, correct_K2/total,correct_K3/total, ndcg_K/total,ndcg_K2/total,ndcg_K3/total"
   ],
   "metadata": {
    "collapsed": false,
    "pycharm": {
     "name": "#%%\n"
    }
   }
  },
  {
   "cell_type": "markdown",
   "source": [
    "## training models + evaluation\n"
   ],
   "metadata": {
    "collapsed": false,
    "pycharm": {
     "name": "#%% md\n"
    }
   }
  },
  {
   "cell_type": "code",
   "execution_count": 11,
   "outputs": [
    {
     "name": "stdout",
     "output_type": "stream",
     "text": [
      "easer recall@5,10,20 = 0.015931372549019607,0.023590686274509803,0.032475490196078434\n",
      "easer ndcg@5,10,20 = 0.012638756900694333,0.015091048027232615,0.01733567293121932\n",
      "\n",
      "done fold: 0\n",
      "training took :  1641.1826887130737 s\n",
      "easer recall@5,10,20 = 0.011948529411764705,0.017769607843137254,0.02971813725490196\n",
      "easer ndcg@5,10,20 = 0.008929985435472609,0.01076754476122627,0.01380640650794218\n",
      "\n",
      "done fold: 1\n",
      "training took :  1503.3938691616058 s\n",
      "easer recall@5,10,20 = 0.01715686274509804,0.02542892156862745,0.03553921568627451\n",
      "easer ndcg@5,10,20 = 0.011732188296572622,0.014422104368790007,0.01693861185821921\n",
      "\n",
      "done fold: 2\n",
      "training took :  1482.9207170009613 s\n",
      "easer recall@5,10,20 = 0.01685049019607843,0.023590686274509803,0.03308823529411765\n",
      "easer ndcg@5,10,20 = 0.013006481531668007,0.015164477837351947,0.017534437185416998\n",
      "\n",
      "done fold: 3\n",
      "training took :  1649.4020981788635 s\n",
      "easer recall@5,10,20 = 0.015318627450980392,0.021752450980392156,0.030637254901960783\n",
      "easer ndcg@5,10,20 = 0.011062265989167605,0.013199291497728687,0.015430536584804116\n",
      "\n",
      "done fold: 4\n",
      "training took :  1496.8576233386993 s\n",
      "easer recall@5,10,20 = 0.02022678516702421,0.02850137909898866,0.03800183879865155\n",
      "easer ndcg@5,10,20 = 0.014573125292498665,0.017292662891821974,0.0196674492710093\n",
      "\n",
      "done fold: 5\n",
      "training took :  1661.9407501220703 s\n",
      "easer recall@5,10,20 = 0.015323322096230463,0.026049647563591787,0.03432424149555623\n",
      "easer ndcg@5,10,20 = 0.012085452546617614,0.015550838383673379,0.017671721365924244\n",
      "\n",
      "done fold: 6\n",
      "training took :  1428.7663934230804 s\n",
      "easer recall@5,10,20 = 0.019000919399325775,0.02390438247011952,0.03432424149555623\n",
      "easer ndcg@5,10,20 = 0.014196050035697612,0.01577906327803635,0.01841356165627421\n",
      "\n",
      "done fold: 7\n",
      "training took :  1465.4283442497253 s\n",
      "easer recall@5,10,20 = 0.017775053631627336,0.02421084891204413,0.035856573705179286\n",
      "easer ndcg@5,10,20 = 0.01247833957333885,0.014567107461908967,0.01749774646684227\n",
      "\n",
      "done fold: 8\n",
      "training took :  1575.8884994983673 s\n",
      "easer recall@5,10,20 = 0.015323322096230463,0.022372050260496476,0.03677597303095311\n",
      "easer ndcg@5,10,20 = 0.010680046263938998,0.012966863762400666,0.016585386358834543\n",
      "\n",
      "done fold: 9\n",
      "training took :  1529.7205505371094 s\n",
      "mean recall@5,10,20 over 10 folds: 0.016485528474337943,0.023717066124641705,0.03407412018592298\n",
      "mean ndcg@5,10,20 over 10 folds: 0.012138269186566691,0.014480100227017087,0.01708815301864864\n",
      "\n",
      "standard deviation recall@5,10,20 over 10 folds: 0.0021800346247500776,0.0026946786228500864,0.002499799314930462\n",
      "standard deviation ndcg@5,10,20 over 10 folds: 0.001582020469617277,0.001712024571772779,0.0015156160781238477\n"
     ]
    }
   ],
   "source": [
    "#Please enter the path here of where you will place the pickle files (with trailing /)\n",
    "data_path=\"../results_aiproject/\"\n",
    "result_list_pop_K5=list()\n",
    "result_list_pop_K10=list()\n",
    "result_list_pop_K20=list()\n",
    "result_list_pop_ndcg5=list()\n",
    "result_list_pop_ndcg10=list()\n",
    "result_list_pop_ndcg20=list()\n",
    "\n",
    "for f_idx, fold_files in enumerate(folds):\n",
    "    start = time.time()\n",
    "    train_data = open_csv(fold_files[0], use_less_data)\n",
    "    test_data = open_csv(fold_files[2], use_less_data)\n",
    "    #Here we have the user item matrix\n",
    "    interactions, ground_truth = split_test(test_data)\n",
    "    interactions= pd.concat([interactions, train_data])\n",
    "    X_train = data_frame_to_matrix(interactions)\n",
    "\n",
    "    #train models\n",
    "\n",
    "    model = Easer()\n",
    "    model.train(X_train, lambda_=1250)\n",
    "\n",
    "    recall5,recall10,recall20, ndcg5,ndcg10,ndcg20 = recal_easer(model, interactions, ground_truth)\n",
    "\n",
    "    result_list_pop_K5.append(recall5)\n",
    "    result_list_pop_K10.append(recall10)\n",
    "    result_list_pop_K20.append(recall20)\n",
    "    result_list_pop_ndcg5.append(ndcg5)\n",
    "    result_list_pop_ndcg10.append(ndcg10)\n",
    "    result_list_pop_ndcg20.append(ndcg20)\n",
    "\n",
    "    print(\"done fold:\",str(f_idx))\n",
    "\n",
    "    end = time.time()\n",
    "    print(\"training took : \", end - start, \"s\")\n",
    "    # break\n",
    "\n",
    "print(\"mean recall@5,10,20 over 10 folds: %s,%s,%s\" % (str(st.mean(result_list_pop_K5)),str(st.mean(result_list_pop_K10)),str(st.mean(result_list_pop_K20))))\n",
    "print(\"mean ndcg@5,10,20 over 10 folds: %s,%s,%s\" % (str(st.mean(result_list_pop_ndcg5)),str(st.mean(result_list_pop_ndcg10)),str(st.mean(result_list_pop_ndcg20))), end=\"\\n\\n\")\n",
    "print(\"standard deviation recall@5,10,20 over 10 folds: %s,%s,%s\" %(str(st.pstdev(result_list_pop_K5)), str(st.pstdev(result_list_pop_K10)), str(st.pstdev(result_list_pop_K20))))\n",
    "print(\"standard deviation ndcg@5,10,20 over 10 folds: %s,%s,%s\" % (str(st.pstdev(result_list_pop_ndcg5)),str(st.pstdev(result_list_pop_ndcg10)),str(st.pstdev(result_list_pop_ndcg20))))"
   ],
   "metadata": {
    "collapsed": false,
    "pycharm": {
     "name": "#%%\n"
    }
   }
  }
 ],
 "metadata": {
  "kernelspec": {
   "display_name": "Python 3",
   "language": "python",
   "name": "python3"
  },
  "language_info": {
   "codemirror_mode": {
    "name": "ipython",
    "version": 2
   },
   "file_extension": ".py",
   "mimetype": "text/x-python",
   "name": "python",
   "nbconvert_exporter": "python",
   "pygments_lexer": "ipython2",
   "version": "2.7.6"
  }
 },
 "nbformat": 4,
 "nbformat_minor": 0
}